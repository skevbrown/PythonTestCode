{
 "cells": [
  {
   "cell_type": "code",
   "execution_count": 1,
   "metadata": {
    "collapsed": true
   },
   "outputs": [],
   "source": [
    "import nltk\n",
    "import os\n",
    "os.environ[\"DEBUSSY\"] = \"1\"\n",
    "os.environ[\"NLTK_DATA\"] = \"C:/Users/skevb/AppData/Roaming/nltk_data/corpora\""
   ]
  },
  {
   "cell_type": "code",
   "execution_count": 2,
   "metadata": {},
   "outputs": [
    {
     "data": {
      "text/plain": [
       "['austen-emma.txt',\n",
       " 'austen-persuasion.txt',\n",
       " 'austen-sense.txt',\n",
       " 'bible-kjv.txt',\n",
       " 'blake-poems.txt',\n",
       " 'bryant-stories.txt',\n",
       " 'burgess-busterbrown.txt',\n",
       " 'carroll-alice.txt',\n",
       " 'chesterton-ball.txt',\n",
       " 'chesterton-brown.txt',\n",
       " 'chesterton-thursday.txt',\n",
       " 'edgeworth-parents.txt',\n",
       " 'melville-moby_dick.txt',\n",
       " 'milton-paradise.txt',\n",
       " 'shakespeare-caesar.txt',\n",
       " 'shakespeare-hamlet.txt',\n",
       " 'shakespeare-macbeth.txt',\n",
       " 'whitman-leaves.txt']"
      ]
     },
     "execution_count": 2,
     "metadata": {},
     "output_type": "execute_result"
    }
   ],
   "source": [
    "#nltk.download()\n",
    "#\n",
    "nltk.corpus.gutenberg.fileids()"
   ]
  },
  {
   "cell_type": "code",
   "execution_count": 3,
   "metadata": {},
   "outputs": [
    {
     "data": {
      "text/plain": [
       "['adventure',\n",
       " 'belles_lettres',\n",
       " 'editorial',\n",
       " 'fiction',\n",
       " 'government',\n",
       " 'hobbies',\n",
       " 'humor',\n",
       " 'learned',\n",
       " 'lore',\n",
       " 'mystery',\n",
       " 'news',\n",
       " 'religion',\n",
       " 'reviews',\n",
       " 'romance',\n",
       " 'science_fiction']"
      ]
     },
     "execution_count": 3,
     "metadata": {},
     "output_type": "execute_result"
    }
   ],
   "source": [
    "from nltk.corpus import brown\n",
    "brown.categories()"
   ]
  },
  {
   "cell_type": "code",
   "execution_count": 10,
   "metadata": {
    "collapsed": true
   },
   "outputs": [],
   "source": [
    "bw=brown.words(categories='science_fiction')\n"
   ]
  },
  {
   "cell_type": "code",
   "execution_count": 11,
   "metadata": {},
   "outputs": [
    {
     "name": "stdout",
     "output_type": "stream",
     "text": [
      "``\n",
      "church\n",
      "''\n",
      "which\n",
      "turned\n",
      "up\n",
      "over\n",
      "and\n",
      "over\n",
      "again\n",
      "among\n",
      "Jubal's\n",
      "words\n",
      "gave\n",
      "him\n",
      "knotty\n",
      "difficulty\n",
      ";\n",
      ";\n",
      "there\n",
      "was\n",
      "no\n",
      "Martian\n",
      "concept\n",
      "to\n",
      "match\n",
      "it\n",
      "--\n",
      "unless\n",
      "one\n",
      "took\n",
      "``\n",
      "church\n",
      "''\n",
      "and\n",
      "``\n",
      "worship\n",
      "''\n",
      "and\n",
      "``\n",
      "God\n",
      "''\n",
      "and\n",
      "``\n",
      "congregation\n",
      "''\n",
      "and\n",
      "many\n",
      "other\n",
      "words\n",
      "and\n",
      "equated\n",
      "them\n",
      "to\n",
      "the\n",
      "totality\n",
      "of\n",
      "the\n",
      "only\n",
      "world\n",
      "he\n",
      "had\n",
      "known\n",
      "during\n",
      "growing-waiting\n",
      "then\n",
      "forced\n",
      "the\n",
      "concept\n",
      "back\n",
      "into\n",
      "English\n",
      "in\n",
      "that\n",
      "phrase\n",
      "which\n",
      "had\n",
      "been\n",
      "rejected\n",
      "(\n",
      "by\n",
      "each\n",
      "differently\n",
      ")\n",
      "by\n",
      "Jubal\n",
      ",\n",
      "by\n",
      "Mahmoud\n",
      ",\n",
      "by\n",
      "Digby\n",
      ".\n",
      "``\n",
      "Thou\n",
      "art\n",
      "God\n",
      "''\n",
      ".\n",
      "He\n",
      "was\n",
      "closer\n",
      "to\n",
      "understanding\n",
      "it\n",
      "in\n",
      "English\n",
      "now\n",
      ",\n",
      "although\n",
      "it\n",
      "could\n",
      "never\n",
      "have\n",
      "the\n",
      "inevitability\n",
      "of\n",
      "the\n",
      "Martian\n",
      "concept\n",
      "it\n",
      "stood\n",
      "for\n",
      ".\n",
      "In\n",
      "his\n",
      "mind\n",
      "he\n",
      "spoke\n",
      "simultaneously\n",
      "the\n",
      "English\n",
      "sentence\n",
      "and\n",
      "the\n",
      "Martian\n",
      "word\n",
      "and\n",
      "felt\n",
      "closer\n",
      "grokking\n",
      ".\n",
      "Repeating\n",
      "it\n",
      "like\n",
      "a\n",
      "student\n",
      "telling\n",
      "himself\n",
      "that\n",
      "the\n",
      "jewel\n",
      "is\n",
      "in\n",
      "the\n",
      "lotus\n",
      "he\n",
      "sank\n",
      "into\n",
      "nirvana\n",
      ".\n",
      "Before\n",
      "midnight\n",
      "he\n",
      "speeded\n",
      "his\n",
      "heart\n",
      ",\n",
      "resumed\n",
      "normal\n"
     ]
    }
   ],
   "source": [
    "len(bw)\n",
    "for ii in range(230,400):\n",
    "   print(bw[ii])"
   ]
  },
  {
   "cell_type": "code",
   "execution_count": 12,
   "metadata": {},
   "outputs": [
    {
     "name": "stdout",
     "output_type": "stream",
     "text": [
      "                  can could   may might  must  will \n",
      "           news    93    86    66    38    50   389 \n",
      "       religion    82    59    78    12    54    71 \n",
      "        hobbies   268    58   131    22    83   264 \n",
      "science_fiction    16    49     4    12     8    16 \n",
      "        romance    74   193    11    51    45    43 \n",
      "          humor    16    30     8     8     9    13 \n"
     ]
    }
   ],
   "source": [
    "cfd = nltk.ConditionalFreqDist(\n",
    "...           (genre, word)\n",
    "...           for genre in brown.categories()\n",
    "...           for word in brown.words(categories=genre))\n",
    "genres = ['news', 'religion', 'hobbies', 'science_fiction', 'romance', 'humor']\n",
    "modals = ['can', 'could', 'may', 'might', 'must', 'will']\n",
    "cfd.tabulate(conditions=genres, samples=modals)"
   ]
  },
  {
   "cell_type": "code",
   "execution_count": null,
   "metadata": {
    "collapsed": true
   },
   "outputs": [],
   "source": []
  }
 ],
 "metadata": {
  "kernelspec": {
   "display_name": "Python 3",
   "language": "python",
   "name": "python3"
  },
  "language_info": {
   "codemirror_mode": {
    "name": "ipython",
    "version": 3
   },
   "file_extension": ".py",
   "mimetype": "text/x-python",
   "name": "python",
   "nbconvert_exporter": "python",
   "pygments_lexer": "ipython3",
   "version": "3.6.3"
  }
 },
 "nbformat": 4,
 "nbformat_minor": 2
}
