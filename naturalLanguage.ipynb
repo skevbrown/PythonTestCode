{
 "cells": [
  {
   "cell_type": "code",
   "execution_count": 1,
   "metadata": {
    "collapsed": true
   },
   "outputs": [],
   "source": [
    "import nltk\n",
    "import os\n",
    "os.environ[\"DEBUSSY\"] = \"1\"\n",
    "os.environ[\"NLTK_DATA\"] = \"C:/Users/skevb/AppData/Roaming/nltk_data/corpora\""
   ]
  },
  {
   "cell_type": "code",
   "execution_count": 2,
   "metadata": {},
   "outputs": [
    {
     "data": {
      "text/plain": [
       "['austen-emma.txt',\n",
       " 'austen-persuasion.txt',\n",
       " 'austen-sense.txt',\n",
       " 'bible-kjv.txt',\n",
       " 'blake-poems.txt',\n",
       " 'bryant-stories.txt',\n",
       " 'burgess-busterbrown.txt',\n",
       " 'carroll-alice.txt',\n",
       " 'chesterton-ball.txt',\n",
       " 'chesterton-brown.txt',\n",
       " 'chesterton-thursday.txt',\n",
       " 'edgeworth-parents.txt',\n",
       " 'melville-moby_dick.txt',\n",
       " 'milton-paradise.txt',\n",
       " 'shakespeare-caesar.txt',\n",
       " 'shakespeare-hamlet.txt',\n",
       " 'shakespeare-macbeth.txt',\n",
       " 'whitman-leaves.txt']"
      ]
     },
     "execution_count": 2,
     "metadata": {},
     "output_type": "execute_result"
    }
   ],
   "source": [
    "#nltk.download()\n",
    "#\n",
    "nltk.corpus.gutenberg.fileids()"
   ]
  },
  {
   "cell_type": "code",
   "execution_count": 3,
   "metadata": {},
   "outputs": [
    {
     "data": {
      "text/plain": [
       "['adventure',\n",
       " 'belles_lettres',\n",
       " 'editorial',\n",
       " 'fiction',\n",
       " 'government',\n",
       " 'hobbies',\n",
       " 'humor',\n",
       " 'learned',\n",
       " 'lore',\n",
       " 'mystery',\n",
       " 'news',\n",
       " 'religion',\n",
       " 'reviews',\n",
       " 'romance',\n",
       " 'science_fiction']"
      ]
     },
     "execution_count": 3,
     "metadata": {},
     "output_type": "execute_result"
    }
   ],
   "source": [
    "from nltk.corpus import brown\n",
    "brown.categories()"
   ]
  },
  {
   "cell_type": "code",
   "execution_count": 8,
   "metadata": {},
   "outputs": [],
   "source": [
    "bw=brown.sents(categories='religion')\n",
    "#dir(brown)"
   ]
  },
  {
   "cell_type": "code",
   "execution_count": 10,
   "metadata": {},
   "outputs": [
    {
     "name": "stdout",
     "output_type": "stream",
     "text": [
      "['Almost', 'daily', 'something', 'is', 'reported', 'which', 'feeds', 'this', 'Catholic', 'hope', 'in', 'England', ':', 'statistics', 'of', 'the', 'increasing', 'numbers', 'of', 'converts', 'and', 'Irish', 'Catholic', 'immigrants', ';', ';']\n",
      "['news', 'of', 'a', 'Protestant', 'minister', 'in', 'Leamington', 'who', 'has', 'offered', 'to', 'allow', 'a', 'Catholic', 'priest', 'to', 'preach', 'from', 'his', 'pulpit', ';', ';']\n",
      "['a', 'report', 'that', 'a', 'Catholic', 'nun', 'had', 'been', 'requested', 'to', 'teach', 'in', 'a', 'non-Catholic', 'secondary', 'school', 'during', 'the', 'sickness', 'of', 'one', 'of', 'its', 'masters', ';', ';']\n",
      "['the', 'startling', 'statement', 'in', 'a', 'respectable', 'periodical', 'that', '``', 'Catholics', ',', 'if', 'the', 'present', 'system', 'is', 'still', 'in', 'operation', ',', 'will', 'constitute', 'almost', 'one-third', 'of', 'the', 'House', 'of', 'Lords', 'in', 'the', 'next', 'generation', \"''\", ';', ';']\n",
      "['a', 'report', 'that', '200', 'Protestant', 'clergymen', 'and', 'laity', 'attended', 'a', 'votive', 'Mass', 'offered', 'for', 'Christian', 'unity', 'at', 'a', 'Catholic', 'church', 'in', 'Slough', 'during', 'the', 'Church', 'Unity', 'Octave', '.']\n",
      "['The', 'death', 'of', 'a', 'man', 'is', 'unique', ',', 'and', 'yet', 'it', 'is', 'universal', '.']\n",
      "['The', 'straight', 'line', 'would', 'symbolize', 'its', 'uniqueness', ',', 'the', 'circle', 'its', 'universality', '.']\n",
      "['But', 'how', 'can', 'one', 'figure', 'symbolize', 'both', '?', '?']\n",
      "['Christianity', 'declares', 'that', 'in', 'the', 'life', 'and', 'death', 'of', 'Jesus', 'Christ', 'the', 'unique', 'and', 'the', 'universal', 'concur', '.']\n",
      "['Perhaps', 'no', 'church', 'father', 'saw', 'this', 'concurrence', 'of', 'the', 'unique', 'and', 'the', 'universal', 'as', 'clearly', ',', 'or', 'formulated', 'it', 'as', 'precisely', ',', 'as', 'Irenaeus', '.']\n"
     ]
    }
   ],
   "source": [
    "len(bw)\n",
    "for ii in range(230,240):\n",
    "   print(bw[ii])"
   ]
  },
  {
   "cell_type": "code",
   "execution_count": 12,
   "metadata": {},
   "outputs": [
    {
     "name": "stdout",
     "output_type": "stream",
     "text": [
      "                     can    could      may    might     must     will Catholic \n",
      "           news       93       86       66       38       50      389       23 \n",
      "       religion       82       59       78       12       54       71       34 \n",
      "        hobbies      268       58      131       22       83      264        0 \n",
      "science_fiction       16       49        4       12        8       16        0 \n",
      "        romance       74      193       11       51       45       43        1 \n",
      "          humor       16       30        8        8        9       13        0 \n"
     ]
    }
   ],
   "source": [
    "cfd = nltk.ConditionalFreqDist(\n",
    "...           (genre, word)\n",
    "...           for genre in brown.categories()\n",
    "...           for word in brown.words(categories=genre))\n",
    "genres = ['news', 'religion', 'hobbies', 'science_fiction', 'romance', 'humor']\n",
    "modals = ['can', 'could', 'may', 'might', 'must', 'will','Catholic']\n",
    "cfd.tabulate(conditions=genres, samples=modals)"
   ]
  },
  {
   "cell_type": "code",
   "execution_count": null,
   "metadata": {
    "collapsed": true
   },
   "outputs": [],
   "source": []
  }
 ],
 "metadata": {
  "kernelspec": {
   "display_name": "Python 3",
   "language": "python",
   "name": "python3"
  },
  "language_info": {
   "codemirror_mode": {
    "name": "ipython",
    "version": 3
   },
   "file_extension": ".py",
   "mimetype": "text/x-python",
   "name": "python",
   "nbconvert_exporter": "python",
   "pygments_lexer": "ipython3",
   "version": "3.6.3"
  }
 },
 "nbformat": 4,
 "nbformat_minor": 2
}
